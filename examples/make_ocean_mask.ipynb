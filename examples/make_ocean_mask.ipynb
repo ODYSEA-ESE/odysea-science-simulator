{
 "cells": [
  {
   "cell_type": "code",
   "execution_count": 5,
   "id": "7cdf2577-3844-4faf-bacf-19e2ef6de4da",
   "metadata": {},
   "outputs": [],
   "source": [
    "from global_land_mask import globe\n",
    "import numpy as np\n"
   ]
  },
  {
   "cell_type": "code",
   "execution_count": 7,
   "id": "8bd5ff2e-40ba-4935-981b-c4044d81a48f",
   "metadata": {},
   "outputs": [],
   "source": [
    "lon_lin = np.arange(-180,180,.25)\n",
    "lat_lin = np.arange(-90,90,.25)\n",
    "\n",
    "lon_mesh,lat_mesh = np.meshgrid((lon_lin[1::]+lon_lin[0:-1])/2,(lat_lin[1::]+lat_lin[0:-1])/2)"
   ]
  },
  {
   "cell_type": "code",
   "execution_count": 8,
   "id": "faae813b-fa48-4631-b750-e84ccc36145c",
   "metadata": {},
   "outputs": [],
   "source": [
    "is_ocean = globe.is_ocean(lat_mesh, lon_mesh)"
   ]
  },
  {
   "cell_type": "code",
   "execution_count": null,
   "id": "374d06a8-f01c-4eb5-80e5-e5205c3b26ec",
   "metadata": {},
   "outputs": [],
   "source": []
  }
 ],
 "metadata": {
  "kernelspec": {
   "display_name": "Python 3 (ipykernel)",
   "language": "python",
   "name": "python3"
  },
  "language_info": {
   "codemirror_mode": {
    "name": "ipython",
    "version": 3
   },
   "file_extension": ".py",
   "mimetype": "text/x-python",
   "name": "python",
   "nbconvert_exporter": "python",
   "pygments_lexer": "ipython3",
   "version": "3.11.0"
  }
 },
 "nbformat": 4,
 "nbformat_minor": 5
}
